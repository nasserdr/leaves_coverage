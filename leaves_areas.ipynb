{
 "cells": [
  {
   "cell_type": "code",
   "execution_count": 1,
   "id": "046e6642-166c-41d3-b667-f2214a0ef332",
   "metadata": {},
   "outputs": [],
   "source": [
    "from skimage import data, color\n",
    "from matplotlib import pyplot as plt\n",
    "import numpy as np\n",
    "from skimage import morphology\n",
    "from skimage.filters import try_all_threshold\n",
    "import os\n",
    "\n",
    "\n",
    "def show_image(image, title='Title', cmap_type = 'gray'):\n",
    "               plt.imshow(image, cmap = cmap_type)\n",
    "               plt.title(title)\n",
    "               plt.axis('off')\n",
    "               plt.show()\n",
    "            \n",
    "def plot_comparison(original, filtered, title_filtered, size = (8,6)):\n",
    "    fig, (ax1, ax2) = plt.subplots(ncols = 2, figsize =(size[0],size[1]), sharex = True, sharey = True)\n",
    "    \n",
    "    ax1.imshow(original, cmap = plt.cm.gray)\n",
    "    ax1.set_title('Original')\n",
    "    ax1.axis('off')\n",
    "    \n",
    "    ax2.imshow(filtered, cmap =plt.cm.gray)\n",
    "    ax2.set_title(title_filtered)\n",
    "    ax2.axis('off')"
   ]
  },
  {
   "cell_type": "code",
   "execution_count": 2,
   "id": "df97e957-570d-4182-b14e-c8b11c7204a1",
   "metadata": {},
   "outputs": [],
   "source": [
    "idir = \"images\"\n",
    "included_extensions = ['jpg','jpeg', 'bmp', 'png', 'gif']\n",
    "files = [fn for fn in os.listdir(idir)\n",
    "              if any(fn.endswith(ext) for ext in included_extensions)]\n",
    "os.chdir(idir)"
   ]
  },
  {
   "cell_type": "code",
   "execution_count": 3,
   "id": "bc41a203-a9ec-48b1-b491-6e0e9a296e60",
   "metadata": {},
   "outputs": [
    {
     "data": {
      "text/plain": [
       "['3_cropped.jpg',\n",
       " 'buildings.jpg',\n",
       " 'buildings1.jpg',\n",
       " 'buildings2.jpg',\n",
       " 'face1.jpg',\n",
       " 'face2.jpg',\n",
       " 'face3.jpg',\n",
       " '1_cropped.jpg',\n",
       " '2_cropped.jpg']"
      ]
     },
     "execution_count": 3,
     "metadata": {},
     "output_type": "execute_result"
    }
   ],
   "source": [
    "files"
   ]
  },
  {
   "cell_type": "code",
   "execution_count": null,
   "id": "e0ce92e2-0ab5-44b3-aca7-20cce8235004",
   "metadata": {},
   "outputs": [],
   "source": []
  }
 ],
 "metadata": {
  "kernelspec": {
   "display_name": "Python 3 (ipykernel)",
   "language": "python",
   "name": "python3"
  },
  "language_info": {
   "codemirror_mode": {
    "name": "ipython",
    "version": 3
   },
   "file_extension": ".py",
   "mimetype": "text/x-python",
   "name": "python",
   "nbconvert_exporter": "python",
   "pygments_lexer": "ipython3",
   "version": "3.9.2"
  }
 },
 "nbformat": 4,
 "nbformat_minor": 5
}
